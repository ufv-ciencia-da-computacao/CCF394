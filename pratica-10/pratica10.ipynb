{
  "cells": [
    {
      "cell_type": "markdown",
      "source": [
        "#Introdução"
      ],
      "metadata": {
        "id": "FTQ_c0iRk8qZ"
      }
    },
    {
      "cell_type": "markdown",
      "source": [
        "Grupo: Germano Barcelos (3873), Guilherme Melos (3882), Jhonata Miranda (3859)"
      ],
      "metadata": {
        "id": "LhkCGcATaSij"
      }
    },
    {
      "cell_type": "markdown",
      "source": [
        "Neste trabalho é apresentado um método de extração de características geográficas de uma imagem de uma região. O trabalho proposto baseia-se na análise e extração das características de textura da geografia local. Durante a identificação, a imagem original é recortada em pequanas partes e nomeadas para que se possa saber a qual tipo de área se referem. Na sequência, as informações de textura são extraídas através de uma abordagem estatística de segunda ordem, utilizando as características de Haralick como parâmetros de classificação. As informações obtidas são armazenadas em um dataframe de características, realizamos o PCA para extrair somente os componentes que descrevem 95% da variância dos dados, e usamos um classificador SVM para a classificação das iamgens. Por fim, utilizamos um K-means para a clusterização da imagem original. "
      ],
      "metadata": {
        "id": "fRxEpJ1IwAcC"
      }
    },
    {
      "cell_type": "markdown",
      "source": [
        "Para realizar este trabalho, utilzamos algumas bibliotecas indispensáveis para o processamento de imagens, tais como: `OpenCv`, `Numpy`, `Pandas` e `MatPlotLib`. "
      ],
      "metadata": {
        "id": "Df_vflrevq3m"
      }
    },
    {
      "cell_type": "code",
      "execution_count": null,
      "metadata": {
        "id": "Ws90BYWUksbg"
      },
      "outputs": [],
      "source": [
        "import cv2\n",
        "import numpy as np\n",
        "import pandas as pd\n",
        "import matplotlib.pyplot as plt"
      ]
    },
    {
      "cell_type": "markdown",
      "source": [
        "Inicalmente, realizamos 5 recortes da imagem `itai-sp.png` e desses recortes criamos imagens de tamanho 20x20px para extraimos os dados. Abaixo está o procedimento que utilizamos para realizar os recortes."
      ],
      "metadata": {
        "id": "4ke9ei6tleFc"
      }
    },
    {
      "cell_type": "code",
      "execution_count": null,
      "metadata": {
        "id": "q_A9gOrnksbh"
      },
      "outputs": [],
      "source": [
        "img = cv2.imread('./cropped/area-plantada.png')"
      ]
    },
    {
      "cell_type": "code",
      "execution_count": null,
      "metadata": {
        "id": "rT99haiMksbi",
        "outputId": "1f62368d-9138-49f7-fa2b-49a1e8c24665"
      },
      "outputs": [
        {
          "data": {
            "text/plain": [
              "(530, 842, 3)"
            ]
          },
          "execution_count": 4,
          "metadata": {},
          "output_type": "execute_result"
        }
      ],
      "source": [
        "img.shape"
      ]
    },
    {
      "cell_type": "code",
      "execution_count": null,
      "metadata": {
        "id": "IgUY2U73ksbj"
      },
      "outputs": [],
      "source": [
        "for x in range(0, 530, 20):\n",
        "    for y in range(0, 842, 20):\n",
        "        if (img[x:x+20, y:y+20].flatten().sum() != 306000):\n",
        "            cv2.imwrite(f\"./imgs_cropped/area-plantada/{x}-{y}.jpg\",img[x:x+20, y:y+20])"
      ]
    },
    {
      "cell_type": "markdown",
      "source": [
        "#Textura"
      ],
      "metadata": {
        "id": "_qU7EJ8NmjKM"
      }
    },
    {
      "cell_type": "markdown",
      "source": [
        "A análise de imagens através de texturas é um método bastante utilizado na\n",
        "diferenciação de estruturas encontradas na natureza. Dentre estas estruturas podem ser citadas como exemplo imagens geológicas, imagens biométricas e imagens médicas como mamogratias e ressonâncias magnéticas, etc. Vários tipos de características podem ser extraídas através do estudo da textura de uma imagem, fornecendo informações muito relevantes em sistemas de visão computacional. Textura pode ser definida como um conjunto de determinados padrões que podem ocorrer na natureza, apresentando um formato repetitivo ou não. As imagens de estrutmas geológicas, como reservatórios rochosos aparecem como exemplos de texturas não repetitivas.\n"
      ],
      "metadata": {
        "id": "Re48j21QlklK"
      }
    },
    {
      "cell_type": "markdown",
      "metadata": {
        "id": "uLl9qV6jksbj"
      },
      "source": [
        "## Extração de Características com Halarick"
      ]
    },
    {
      "cell_type": "markdown",
      "source": [
        "Abaixo, extraimos as caracteristicas de cada uma das imagens recortadas da imagem principal. A função `extract_features()` calcula 5 características da imagem utilizando as funções `greycomatrix()` e `greycoprops()` da biblioteca skimage. A imagem é convertida para o formato de byte sem sinal e, apos isso, utilizamos esta imagem para extrair a matriz de coocorrência da imagem e dessa matriz extraimos caracteristicas como: contraste, energia, homogeneidade, correlação e dissimilaridade.\n",
        "\n",
        "Com isso, utilizamos a função `extract_features()` para extrair estas caracteristicas de cada um dos recortes criados anteriormente. Por fim, construimos um dataframe com cada uma das colunas sendo as caracteristicas, a última coluna é a classe a qual o recorte pertence, e os dados dessas colunas são os dados obtidos anteriormente."
      ],
      "metadata": {
        "id": "vrPMLuoJmrVJ"
      }
    },
    {
      "cell_type": "code",
      "execution_count": null,
      "metadata": {
        "id": "gQT9nVMEksbk"
      },
      "outputs": [],
      "source": [
        "import os\n",
        "from glob import glob\n",
        "import skimage\n",
        "from skimage.feature import greycomatrix, greycoprops\n",
        "\n",
        "\n",
        "def extract_features(image):\n",
        "    # calcula descritores de halarick para  4 adjacencias\n",
        "    image = skimage.img_as_ubyte(image)\n",
        "    bins = np.array([0, 16, 32, 48, 64, 80, 96, 112, 128, 144, 160, 176, 192, 208, 224, 240, 255]) #16-bit\n",
        "    inds = np.digitize(image, bins)\n",
        "\n",
        "    max_value = inds.max()+1\n",
        "    glcm = greycomatrix(inds, [10], [0], max_value, symmetric=False, normed=True)\n",
        "    contrast = greycoprops(glcm, 'contrast')[0][0]\n",
        "    energy = greycoprops(glcm, 'energy')[0][0]\n",
        "    homogeneity = greycoprops(glcm, 'homogeneity')[0][0]\n",
        "    correlation = greycoprops(glcm, 'correlation')[0][0]\n",
        "    dissimilarity = greycoprops(glcm, 'dissimilarity')[0][0]\n",
        "    \n",
        "    textures = [contrast, energy, homogeneity, correlation, dissimilarity]  \n",
        "    \n",
        "    return textures\n",
        "\n",
        "base_path = \"./imgs_cropped/\"\n",
        "arr = [\"area-nao-plantada\", \"area-plantada\", \"cidade\", \"desmatamento\", \"terra\"]\n",
        "\n",
        "df = []\n",
        "for x in arr:\n",
        "    files = glob(os.path.join(base_path, x, \"*.jpg\"))\n",
        "    cls = os.path.normpath(files[0]).split(\"/\")[1]\n",
        "\n",
        "    for f in files:        \n",
        "        img = cv2.imread(f)\n",
        "        gray = cv2.cvtColor(img, cv2.COLOR_BGR2GRAY)\n",
        "        halarick = extract_features(gray)\n",
        "        halarick.append(cls)\n",
        "\n",
        "        df.append(tuple(halarick))\n",
        "\n",
        "df = pd.DataFrame(df, columns=[\"contrast\", \"energy\", \"homogeneity\", \"correlation\", \"dissimilarity\", \"class\"])\n"
      ]
    },
    {
      "cell_type": "markdown",
      "source": [
        "Abaixo, exibimos parte do nosso dataframe:"
      ],
      "metadata": {
        "id": "9Y5mSXUwpF_H"
      }
    },
    {
      "cell_type": "code",
      "execution_count": null,
      "metadata": {
        "id": "SvyG19gxksbl",
        "outputId": "a9a2df82-7d69-4fc4-aaf0-928348cb22b0"
      },
      "outputs": [
        {
          "data": {
            "text/html": [
              "<div>\n",
              "<style scoped>\n",
              "    .dataframe tbody tr th:only-of-type {\n",
              "        vertical-align: middle;\n",
              "    }\n",
              "\n",
              "    .dataframe tbody tr th {\n",
              "        vertical-align: top;\n",
              "    }\n",
              "\n",
              "    .dataframe thead th {\n",
              "        text-align: right;\n",
              "    }\n",
              "</style>\n",
              "<table border=\"1\" class=\"dataframe\">\n",
              "  <thead>\n",
              "    <tr style=\"text-align: right;\">\n",
              "      <th></th>\n",
              "      <th>contrast</th>\n",
              "      <th>energy</th>\n",
              "      <th>homogeneity</th>\n",
              "      <th>correlation</th>\n",
              "      <th>dissimilarity</th>\n",
              "      <th>class</th>\n",
              "    </tr>\n",
              "  </thead>\n",
              "  <tbody>\n",
              "    <tr>\n",
              "      <th>0</th>\n",
              "      <td>2.665</td>\n",
              "      <td>0.258747</td>\n",
              "      <td>0.533781</td>\n",
              "      <td>0.170052</td>\n",
              "      <td>1.215</td>\n",
              "      <td>area-nao-plantada</td>\n",
              "    </tr>\n",
              "    <tr>\n",
              "      <th>1</th>\n",
              "      <td>2.640</td>\n",
              "      <td>0.372156</td>\n",
              "      <td>0.598299</td>\n",
              "      <td>0.582060</td>\n",
              "      <td>1.080</td>\n",
              "      <td>area-nao-plantada</td>\n",
              "    </tr>\n",
              "    <tr>\n",
              "      <th>2</th>\n",
              "      <td>1.680</td>\n",
              "      <td>0.366674</td>\n",
              "      <td>0.699294</td>\n",
              "      <td>0.743707</td>\n",
              "      <td>0.780</td>\n",
              "      <td>area-nao-plantada</td>\n",
              "    </tr>\n",
              "    <tr>\n",
              "      <th>3</th>\n",
              "      <td>4.760</td>\n",
              "      <td>0.306349</td>\n",
              "      <td>0.429198</td>\n",
              "      <td>0.476818</td>\n",
              "      <td>1.700</td>\n",
              "      <td>area-nao-plantada</td>\n",
              "    </tr>\n",
              "    <tr>\n",
              "      <th>4</th>\n",
              "      <td>4.645</td>\n",
              "      <td>0.336006</td>\n",
              "      <td>0.479667</td>\n",
              "      <td>-0.160503</td>\n",
              "      <td>1.565</td>\n",
              "      <td>area-nao-plantada</td>\n",
              "    </tr>\n",
              "    <tr>\n",
              "      <th>...</th>\n",
              "      <td>...</td>\n",
              "      <td>...</td>\n",
              "      <td>...</td>\n",
              "      <td>...</td>\n",
              "      <td>...</td>\n",
              "      <td>...</td>\n",
              "    </tr>\n",
              "    <tr>\n",
              "      <th>103</th>\n",
              "      <td>0.095</td>\n",
              "      <td>0.897636</td>\n",
              "      <td>0.952500</td>\n",
              "      <td>0.125630</td>\n",
              "      <td>0.095</td>\n",
              "      <td>terra</td>\n",
              "    </tr>\n",
              "    <tr>\n",
              "      <th>104</th>\n",
              "      <td>0.170</td>\n",
              "      <td>0.841071</td>\n",
              "      <td>0.915000</td>\n",
              "      <td>-0.078905</td>\n",
              "      <td>0.170</td>\n",
              "      <td>terra</td>\n",
              "    </tr>\n",
              "    <tr>\n",
              "      <th>105</th>\n",
              "      <td>0.855</td>\n",
              "      <td>0.549636</td>\n",
              "      <td>0.749486</td>\n",
              "      <td>-0.100802</td>\n",
              "      <td>0.555</td>\n",
              "      <td>terra</td>\n",
              "    </tr>\n",
              "    <tr>\n",
              "      <th>106</th>\n",
              "      <td>4.330</td>\n",
              "      <td>0.533807</td>\n",
              "      <td>0.724764</td>\n",
              "      <td>0.509120</td>\n",
              "      <td>1.040</td>\n",
              "      <td>terra</td>\n",
              "    </tr>\n",
              "    <tr>\n",
              "      <th>107</th>\n",
              "      <td>0.430</td>\n",
              "      <td>0.698069</td>\n",
              "      <td>0.827000</td>\n",
              "      <td>-0.100213</td>\n",
              "      <td>0.360</td>\n",
              "      <td>terra</td>\n",
              "    </tr>\n",
              "  </tbody>\n",
              "</table>\n",
              "<p>108 rows × 6 columns</p>\n",
              "</div>"
            ],
            "text/plain": [
              "     contrast    energy  homogeneity  correlation  dissimilarity  \\\n",
              "0       2.665  0.258747     0.533781     0.170052          1.215   \n",
              "1       2.640  0.372156     0.598299     0.582060          1.080   \n",
              "2       1.680  0.366674     0.699294     0.743707          0.780   \n",
              "3       4.760  0.306349     0.429198     0.476818          1.700   \n",
              "4       4.645  0.336006     0.479667    -0.160503          1.565   \n",
              "..        ...       ...          ...          ...            ...   \n",
              "103     0.095  0.897636     0.952500     0.125630          0.095   \n",
              "104     0.170  0.841071     0.915000    -0.078905          0.170   \n",
              "105     0.855  0.549636     0.749486    -0.100802          0.555   \n",
              "106     4.330  0.533807     0.724764     0.509120          1.040   \n",
              "107     0.430  0.698069     0.827000    -0.100213          0.360   \n",
              "\n",
              "                 class  \n",
              "0    area-nao-plantada  \n",
              "1    area-nao-plantada  \n",
              "2    area-nao-plantada  \n",
              "3    area-nao-plantada  \n",
              "4    area-nao-plantada  \n",
              "..                 ...  \n",
              "103              terra  \n",
              "104              terra  \n",
              "105              terra  \n",
              "106              terra  \n",
              "107              terra  \n",
              "\n",
              "[108 rows x 6 columns]"
            ]
          },
          "execution_count": 4,
          "metadata": {},
          "output_type": "execute_result"
        }
      ],
      "source": [
        "df"
      ]
    },
    {
      "cell_type": "markdown",
      "metadata": {
        "id": "zVG9jQoQksbl"
      },
      "source": [
        "## Treinamento"
      ]
    },
    {
      "cell_type": "markdown",
      "source": [
        "Utilizando as bibliotecas `sklearn` e `seaborn`, iremos treinar um classificador com o dataframe criado acima."
      ],
      "metadata": {
        "id": "_iaxIM2apX_2"
      }
    },
    {
      "cell_type": "code",
      "execution_count": null,
      "metadata": {
        "id": "WxrCyaZeksbl"
      },
      "outputs": [],
      "source": [
        "from sklearn.model_selection import train_test_split\n",
        "from sklearn.metrics import accuracy_score,confusion_matrix\n",
        "from sklearn.decomposition import PCA\n",
        "from sklearn.preprocessing import StandardScaler\n",
        "from sklearn import svm\n",
        "import seaborn as sns\n",
        "from sklearn.model_selection import StratifiedShuffleSplit"
      ]
    },
    {
      "cell_type": "markdown",
      "source": [
        "Aqui, realizamos a separação dos dados de treinamento e dados de validação. Com esses dados, realizamos a PCA (*Principal Component Analisys*), extraindo apenas os componentes que descrevem 95% da variância dos dados. Por fim, exibimos a explicação sobre a taxa de variância dos dados. Nota-se que apenas 3 componentes já descrevem 95% da variância dos dados, sendo desnecessário utilizar o restante dos componentes para treinar o classificador."
      ],
      "metadata": {
        "id": "iBms59zepoP5"
      }
    },
    {
      "cell_type": "code",
      "execution_count": null,
      "metadata": {
        "id": "D7SFvvyuksbm"
      },
      "outputs": [],
      "source": [
        "X = df.drop(\"class\", axis=1)\n",
        "Y = df[\"class\"]"
      ]
    },
    {
      "cell_type": "code",
      "execution_count": null,
      "metadata": {
        "id": "mvRyFV34ksbm"
      },
      "outputs": [],
      "source": [
        "X_train, X_test, Y_train, Y_test = train_test_split(X, Y, test_size = 0.5, random_state=0, stratify=Y)"
      ]
    },
    {
      "cell_type": "code",
      "execution_count": null,
      "metadata": {
        "id": "cYdgYo4Tksbm",
        "outputId": "d098a1fe-524c-45d8-a8ac-2686ae23e579"
      },
      "outputs": [
        {
          "name": "stdout",
          "output_type": "stream",
          "text": [
            "[0.69910896 0.20581668 0.07675125]\n"
          ]
        }
      ],
      "source": [
        "X_train = StandardScaler().fit_transform(X_train)\n",
        "X_test = StandardScaler().fit_transform(X_test)\n",
        "\n",
        "pca = PCA(n_components=0.95, copy=True, whiten=False)\n",
        "X_train = pca.fit_transform(X_train)\n",
        "X_test = pca.transform(X_test)\n",
        "\n",
        "print(pca.explained_variance_ratio_)"
      ]
    },
    {
      "cell_type": "markdown",
      "source": [
        "Criamos o classificador SVM, utilizando um kernel rbf e realizamos o treinamento dos dados."
      ],
      "metadata": {
        "id": "RQvbRNUHqanK"
      }
    },
    {
      "cell_type": "code",
      "execution_count": null,
      "metadata": {
        "id": "X79grSdDksbm",
        "outputId": "4fead8a6-c52d-4357-d757-3f638c97c8a1"
      },
      "outputs": [
        {
          "data": {
            "text/plain": [
              "SVC(gamma='auto')"
            ]
          },
          "execution_count": 90,
          "metadata": {},
          "output_type": "execute_result"
        }
      ],
      "source": [
        "svc = svm.SVC(kernel=\"rbf\", C = 1.0, gamma=\"auto\")\n",
        "svc.fit(X_train, Y_train.values.ravel())"
      ]
    },
    {
      "cell_type": "code",
      "execution_count": null,
      "metadata": {
        "id": "lMUIrGNXksbn"
      },
      "outputs": [],
      "source": [
        "y_train_prd = svc.predict(X_train)\n",
        "y_test_prd = svc.predict(X_test)"
      ]
    },
    {
      "cell_type": "markdown",
      "source": [
        "## Resultados"
      ],
      "metadata": {
        "id": "OP-aW0Cjqr5K"
      }
    },
    {
      "cell_type": "markdown",
      "source": [
        "Com o classificador treinado e a predição realizada, temos como avaliar os resultado obtidos. Observando a pontuação de precisão do modelo vemos que a precisão do conjunto de treinamento é de 70,3704% e a precisão do conjunto de validação é de 64,8148%."
      ],
      "metadata": {
        "id": "tcVI-WgJqn-d"
      }
    },
    {
      "cell_type": "code",
      "execution_count": null,
      "metadata": {
        "id": "UhUY6t89ksbn",
        "outputId": "1a68cbda-d033-402d-d809-259b517e303c"
      },
      "outputs": [
        {
          "name": "stdout",
          "output_type": "stream",
          "text": [
            "accuracy on train set: 70.3704\n",
            "accuracy on validation set: 64.8148\n"
          ]
        }
      ],
      "source": [
        "acc_train_svc=accuracy_score(Y_train, y_train_prd)\n",
        "acc_val_svc=accuracy_score(Y_test, y_test_prd)\n",
        "\n",
        "print(\"accuracy on train set: {:.4f}\\naccuracy on validation set: {:.4f}\".format(acc_train_svc*100,acc_val_svc*100))"
      ]
    },
    {
      "cell_type": "markdown",
      "source": [
        "Por fim, utilizando a biblioteca `seaborn`, exibimos a matriz de confusão deste classificador SVM. Realizando uma observação rápida dos resultados, podemos notar que a textura utilizada para área plantada foi terrivelmente classifcada como terra e área não plantada. A área onde mostrava o desmatamento na imagem, também não obtive sucesso ao ser classificada, o que explica uma perda de precisão do modelo. Contudo, vale ressaltar que a cidade foi classificada de uma forma quase perfeita e que a área não plantada e a terra obtiveram boas classificações."
      ],
      "metadata": {
        "id": "hriOWnEfrBZo"
      }
    },
    {
      "cell_type": "code",
      "execution_count": null,
      "metadata": {
        "id": "2bi3c9yEksbn",
        "outputId": "856c7d47-ce03-4968-e8e6-3e9aaeae9c59"
      },
      "outputs": [
        {
          "data": {
            "image/png": "[encoded data removed]",
            "text/plain": [
              "<Figure size 648x432 with 2 Axes>"
            ]
          },
          "metadata": {
            "needs_background": "light"
          },
          "output_type": "display_data"
        }
      ],
      "source": [
        "con_matrix = pd.crosstab(pd.Series(Y_test.values.flatten(), name='Teste' ),pd.Series(y_test_prd, name='Previsto'))\n",
        "plt.figure(figsize = (9,6))\n",
        "plt.title(\"Matriz de Confusão do Classificador SVM\")\n",
        "sns.heatmap(con_matrix, annot=True, fmt='g')\n",
        "plt.show()"
      ]
    },
    {
      "cell_type": "markdown",
      "source": [
        "##Colorização da imagem original"
      ],
      "metadata": {
        "id": "pjjorL8QryK4"
      }
    },
    {
      "cell_type": "markdown",
      "source": [
        "Definimos algumas cores para colorizar a imagem original e utilizamos as 5 classes anteriores: área não plantada (cor vinho), área plantada (cor laranja), cidade (azul neon), desmatamento (azul claro) e terra (azul escuro). Com isso, criamos um dicionario para colorir cada uma dessas classes em cores diferentes."
      ],
      "metadata": {
        "id": "c8dSez57r53B"
      }
    },
    {
      "cell_type": "code",
      "execution_count": null,
      "metadata": {
        "id": "zhkWuGW0ksbn",
        "outputId": "95a13749-2352-4d06-942a-f8d02e89d0b9"
      },
      "outputs": [
        {
          "data": {
            "text/plain": [
              "{'area-nao-plantada': (68, 34, 136),\n",
              " 'area-plantada': (108, 162, 234),\n",
              " 'cidade': (181, 211, 61),\n",
              " 'desmatamento': (254, 210, 63),\n",
              " 'terra': (235, 125, 91)}"
            ]
          },
          "execution_count": 94,
          "metadata": {},
          "output_type": "execute_result"
        }
      ],
      "source": [
        "dv_colors_arr = [\n",
        "    (68, 34, 136),\n",
        "    (108, 162, 234),\n",
        "    (181, 211, 61),\n",
        "    (254, 210, 63),\n",
        "    (235, 125, 91)\n",
        "]\n",
        "\n",
        "arr = [\"area-nao-plantada\", \"area-plantada\", \"cidade\", \"desmatamento\", \"terra\"]\n",
        "\n",
        "col = dict(zip(arr, dv_colors_arr))\n",
        "col"
      ]
    },
    {
      "cell_type": "markdown",
      "source": [
        "Utilizando a imagem `itai-sp.png`, processamos cada um dos quadrados de tamanho 20px, tranformamos esse recorte para a escala de cinza, extraimos as características de halarick, aplicamos uma tranformação para obter apenas o componentes principais, utilizando o pca anteriormente criado, predizemos a imagem resultante com o modelo criado anteriormente e aplicamos a cor. O restultado, após aplicação em toda a imagem dividindo em quadrados de tamanho 20px é exibido abaixo:"
      ],
      "metadata": {
        "id": "btbl7BGssYWm"
      }
    },
    {
      "cell_type": "code",
      "execution_count": null,
      "metadata": {
        "id": "pBTafdR8ksbo",
        "outputId": "5b10bcd0-647c-459f-f11e-766952d9ea59"
      },
      "outputs": [
        {
          "data": {
            "text/plain": [
              "<matplotlib.image.AxesImage at 0x7f259bf34490>"
            ]
          },
          "execution_count": 95,
          "metadata": {},
          "output_type": "execute_result"
        },
        {
          "data": {
            "image/png": "[encoded data removed]",
            "text/plain": [
              "<Figure size 432x288 with 1 Axes>"
            ]
          },
          "metadata": {
            "needs_background": "light"
          },
          "output_type": "display_data"
        }
      ],
      "source": [
        "img = cv2.imread('./itai-sp.png')\n",
        "arr_predicted = []\n",
        "for x in range(0, 530, 20):\n",
        "    for y in range(0, 842, 20):\n",
        "        patch = img[x:x+20, y:y+20]\n",
        "\n",
        "        gray = cv2.cvtColor(patch, cv2.COLOR_BGR2GRAY)\n",
        "\n",
        "        halarick = extract_features(gray)\n",
        "        halarick_pca = pca.transform(np.array(halarick).reshape(1,-1))\n",
        "        y_test_prd = svc.predict(halarick_pca)\n",
        "        arr_predicted.append(y_test_prd)\n",
        "        color = col[y_test_prd[0]]\n",
        "\n",
        "        img[x:x+20, y:y+20] = color\n",
        "\n",
        "plt.imshow(img)\n"
      ]
    },
    {
      "cell_type": "markdown",
      "source": [
        "Abaixo, mostramos que apenas 3 classes foram coloridas, sendo que as outras duas não foram preditas utilizando aquele modelo."
      ],
      "metadata": {
        "id": "Punl7hbOuHyd"
      }
    },
    {
      "cell_type": "code",
      "execution_count": null,
      "metadata": {
        "id": "qbZiAQt9ksbo",
        "outputId": "178cac87-2437-4a30-9836-353c35bbccd9"
      },
      "outputs": [
        {
          "name": "stdout",
          "output_type": "stream",
          "text": [
            "['area-nao-plantada' 'area-plantada' 'terra'] [661 204 296]\n"
          ]
        }
      ],
      "source": [
        "unique, counts = np.unique(np.array(arr_predicted), return_counts=True)\n",
        "print(unique, counts)"
      ]
    },
    {
      "cell_type": "markdown",
      "source": [
        "Utilizando a mesma imagem, aplicamos um k-means para obter os 5 clusters que separam a imagem original. Definimos o K como 5, aplicamos o k-means e obtivemos o resultado abaixo."
      ],
      "metadata": {
        "id": "HlGaY3biuTmq"
      }
    },
    {
      "cell_type": "code",
      "execution_count": null,
      "metadata": {
        "id": "EYZUEjTAksbo",
        "outputId": "1a15b727-26e6-4e04-ffbb-6abccdbddfc5"
      },
      "outputs": [
        {
          "name": "stdout",
          "output_type": "stream",
          "text": [
            "Centro do cluster 0:\n",
            "[59 80 63]\n",
            "Centro do cluster 1:\n",
            "[141 164 195]\n",
            "Centro do cluster 2:\n",
            "[39 48 28]\n",
            "Centro do cluster 3:\n",
            "[ 99 120 139]\n",
            "Centro do cluster 4:\n",
            "[ 76  99 101]\n"
          ]
        },
        {
          "data": {
            "text/plain": [
              "<matplotlib.image.AxesImage at 0x7f5b7d32ff10>"
            ]
          },
          "execution_count": 9,
          "metadata": {},
          "output_type": "execute_result"
        },
        {
          "data": {
            "image/png": "[encoded data removed]",
            "text/plain": [
              "<Figure size 432x288 with 1 Axes>"
            ]
          },
          "metadata": {
            "needs_background": "light"
          },
          "output_type": "display_data"
        }
      ],
      "source": [
        "img = cv2.imread('./itai-sp.png')\n",
        "\n",
        "Z = img.reshape((-1,3))\n",
        "\n",
        "Z = np.float32(Z)\n",
        "\n",
        "criteria = (cv2.TERM_CRITERIA_EPS + cv2.TERM_CRITERIA_MAX_ITER, 10, 1.0)\n",
        "K = 5\n",
        "\n",
        "ret,label,center=cv2.kmeans(Z, K, None, criteria, 10, cv2.KMEANS_RANDOM_CENTERS)\n",
        "\n",
        "center = np.uint8(center)\n",
        "\n",
        "res = center[label.flatten()]\n",
        "res2 = res.reshape((img.shape))\n",
        "\n",
        "final=np.concatenate((img,res2),axis=1)\n",
        "\n",
        "plt.imshow(final)\n",
        "\n",
        "num=center.shape[0]\n",
        "\n",
        "k=np.ones((10,100,100,3),np.uint8)\n",
        "\n",
        "for j in range(0,num):\n",
        "  print(\"Centro do cluster %d:\"%j)\n",
        "  print(center[j])\n",
        "\n",
        "\n",
        "for j in range(0,num):\n",
        "  k[j,:,:,0]=[center[j][0]]\n",
        "  k[j,:,:,1]=[center[j][1]]\n",
        "  k[j,:,:,2]=[center[j][2]]\n",
        "\n",
        "final=np.concatenate((k[0],k[1],k[2],k[3],k[4]),axis=1)\n",
        "\n",
        "plt.imshow(final)"
      ]
    },
    {
      "cell_type": "markdown",
      "source": [
        "#Considerações Finais"
      ],
      "metadata": {
        "id": "cUQL-D4Dk5Nt"
      }
    },
    {
      "cell_type": "markdown",
      "source": [
        "Analizandos os resultados, pode-se reparar que houve uma boa classificação dos dados a depender do tipo de textura a ser analizada. Com uma precisão acima de 64%, construimos um classificador que, dada uma textura de teste, verifica se a mesma pertence a uma das 5 classes que definimos. Quanto a construção do K-means, o mesmo definiu cores para o centro dos 5 clusters obtidos. Por fim, verificamos como acertiva a realização do trabalho, com o mesmo contribuindo com o entendimento da aplicação de texturas e extração de características de uma imagem para a classificação da mesma utilizando dois classificadores distintos."
      ],
      "metadata": {
        "id": "156_UOEzxHAv"
      }
    }
  ],
  "metadata": {
    "kernelspec": {
      "display_name": "Python 3.9.7 ('base')",
      "language": "python",
      "name": "python3"
    },
    "language_info": {
      "codemirror_mode": {
        "name": "ipython",
        "version": 3
      },
      "file_extension": ".py",
      "mimetype": "text/x-python",
      "name": "python",
      "nbconvert_exporter": "python",
      "pygments_lexer": "ipython3",
      "version": "3.9.7"
    },
    "orig_nbformat": 4,
    "vscode": {
      "interpreter": {
        "hash": "7e1bc1bfc26bcf9f1a91a6957e40b4112686d2b5d554625b95755bade356a78f"
      }
    },
    "colab": {
      "provenance": []
    }
  },
  "nbformat": 4,
  "nbformat_minor": 0
}