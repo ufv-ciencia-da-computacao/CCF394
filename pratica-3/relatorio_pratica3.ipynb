{
 "cells": [
  {
   "cell_type": "markdown",
   "metadata": {},
   "source": [
    "Exercício 1 - Fazer um filtro de Prewitt para visualizar sua webcam"
   ]
  },
  {
   "cell_type": "code",
   "execution_count": 2,
   "metadata": {},
   "outputs": [],
   "source": [
    "import cv2\n",
    "import numpy as np\n",
    "from scipy import ndimage"
   ]
  },
  {
   "cell_type": "code",
   "execution_count": null,
   "metadata": {},
   "outputs": [],
   "source": [
    "\n",
    "\n",
    "cap = cv2.VideoCapture(0)\n",
    "\n",
    "\n",
    "# Making window size adjustable\n",
    "cv2.namedWindow('image', cv2.WINDOW_NORMAL)\n",
    "\n",
    "while (1):\n",
    "    _, frame = cap.read()\n",
    "    frame = cv2.flip(frame, 1)\n",
    "    frame = cv2.cvtColor(frame, cv2.COLOR_BGR2GRAY)\n",
    "    prewitt_cross_v = np.array([[-1, -1, -1],\n",
    "                                [0, 0, 0],\n",
    "                                [1, 1, 1]])\n",
    "\n",
    "    prewitt_cross_h = np.array([[-1, 0, 1],\n",
    "                                [-1, 0, 1],\n",
    "                                [-1, 0, 1]])\n",
    "\n",
    "    frame= np.asarray(frame, dtype=\"int32\")\n",
    "    frame=frame/255.\n",
    "\n",
    "    vertical = ndimage.convolve(frame, prewitt_cross_v)\n",
    "    horizontal = ndimage.convolve(frame, prewitt_cross_h)\n",
    "\n",
    "    output_image = np.sqrt(np.square(horizontal) + np.square(vertical))\n",
    "    output_image = np.asarray(np.clip(output_image, 0, 255))\n",
    "    cv2.imshow(\"saida\",output_image)\n",
    "    k = cv2.waitKey(5) & 0xFF\n",
    "    if k == 27:\n",
    "        break\n"
   ]
  }
 ],
 "metadata": {
  "kernelspec": {
   "display_name": "Python 3.10.7 64-bit",
   "language": "python",
   "name": "python3"
  },
  "language_info": {
   "codemirror_mode": {
    "name": "ipython",
    "version": 3
   },
   "file_extension": ".py",
   "mimetype": "text/x-python",
   "name": "python",
   "nbconvert_exporter": "python",
   "pygments_lexer": "ipython3",
   "version": "3.10.7"
  },
  "orig_nbformat": 4,
  "vscode": {
   "interpreter": {
    "hash": "3707f902887f3c35b5107292ebf7fa6efa447935186088e555e62ff297aaeb02"
   }
  }
 },
 "nbformat": 4,
 "nbformat_minor": 2
}
